{
 "cells": [
  {
   "cell_type": "code",
   "execution_count": 6,
   "metadata": {},
   "outputs": [],
   "source": [
    "import requests"
   ]
  },
  {
   "cell_type": "markdown",
   "metadata": {},
   "source": [
    "# Zadanie 3"
   ]
  },
  {
   "cell_type": "markdown",
   "metadata": {},
   "source": [
    "Find all meanings of the szkoda noun and display all their synonyms."
   ]
  },
  {
   "cell_type": "code",
   "execution_count": 3,
   "metadata": {},
   "outputs": [],
   "source": [
    "word = 'szkoda'\n",
    "part_of_speech = 'noun'"
   ]
  },
  {
   "cell_type": "code",
   "execution_count": 24,
   "metadata": {},
   "outputs": [
    {
     "data": {
      "text/plain": [
       "{'id': '80624c96-5d15-11e9-bb74-eb518436f10c',\n",
       " 'lemma': 'szkoda',\n",
       " 'sense_index': 2,\n",
       " 'language': 'pl_PL',\n",
       " 'project': 1,\n",
       " 'domain_id': 18,\n",
       " 'part_of_speech': 'noun_pl',\n",
       " 'definition': None,\n",
       " 'synset_id': 'a2924e20-5d14-11e9-86e5-ff2217e9fc70',\n",
       " 'synset_external_id': 3675,\n",
       " 'lexicon': 'Słowosieć',\n",
       " 'homographs': [{'id': '8061a7c8-5d15-11e9-bb72-0b543675d8e2',\n",
       "   'lemma': 'szkoda',\n",
       "   'sense_index': 1,\n",
       "   'language': 'pl_PL',\n",
       "   'project': 1,\n",
       "   'domain_id': 12,\n",
       "   'part_of_speech': 'noun_pl',\n",
       "   'definition': 'miejsce w polu lub ogrodzie, gdzie zwierzęta (np. drób, bydło) zniszczyły plony',\n",
       "   'synset_id': 'a451885c-5d14-11e9-8ebb-0b6b7f1f029b',\n",
       "   'synset_external_id': 6533,\n",
       "   'lexicon': 'Słowosieć'},\n",
       "  {'id': '80624c96-5d15-11e9-bb74-eb518436f10c',\n",
       "   'lemma': 'szkoda',\n",
       "   'sense_index': 2,\n",
       "   'language': 'pl_PL',\n",
       "   'project': 1,\n",
       "   'domain_id': 18,\n",
       "   'part_of_speech': 'noun_pl',\n",
       "   'definition': None,\n",
       "   'synset_id': 'a2924e20-5d14-11e9-86e5-ff2217e9fc70',\n",
       "   'synset_external_id': 3675,\n",
       "   'lexicon': 'Słowosieć'}],\n",
       " 'synset': {'senses': [{'id': '801f0b8e-5d15-11e9-baae-67e5b58acee7',\n",
       "    'lemma': 'strata',\n",
       "    'sense_index': 1,\n",
       "    'language': 'pl_PL',\n",
       "    'project': 1,\n",
       "    'domain_id': 8,\n",
       "    'part_of_speech': 'noun_pl',\n",
       "    'definition': 'mimowolna utrata czegoś, szkoda',\n",
       "    'synset_id': 'a2924e20-5d14-11e9-86e5-ff2217e9fc70',\n",
       "    'synset_external_id': 3675,\n",
       "    'lexicon': 'Słowosieć'},\n",
       "   {'id': '818bb7ce-5d15-11e9-be05-330a863ac9b8',\n",
       "    'lemma': 'utrata',\n",
       "    'sense_index': 1,\n",
       "    'language': 'pl_PL',\n",
       "    'project': 1,\n",
       "    'domain_id': 8,\n",
       "    'part_of_speech': 'noun_pl',\n",
       "    'definition': None,\n",
       "    'synset_id': 'a2924e20-5d14-11e9-86e5-ff2217e9fc70',\n",
       "    'synset_external_id': 3675,\n",
       "    'lexicon': 'Słowosieć'},\n",
       "   {'id': '98b2cc58-5d15-11e9-a6ec-071876812673',\n",
       "    'lemma': 'uszczerbek',\n",
       "    'sense_index': 1,\n",
       "    'language': 'pl_PL',\n",
       "    'project': 1,\n",
       "    'domain_id': 8,\n",
       "    'part_of_speech': 'noun_pl',\n",
       "    'definition': None,\n",
       "    'synset_id': 'a2924e20-5d14-11e9-86e5-ff2217e9fc70',\n",
       "    'synset_external_id': 3675,\n",
       "    'lexicon': 'Słowosieć'}],\n",
       "  'definition': None},\n",
       " 'examples': [],\n",
       " 'outgoing': [{'relation_id': 10,\n",
       "   'language': 'pl_PL',\n",
       "   'target_type': 'synset',\n",
       "   'senses': [{'lemma': 'krzywda',\n",
       "     'domain_id': 9,\n",
       "     'id': '7b3798f2-5d15-11e9-b12b-bbb6b0b37ae4',\n",
       "     'sense_index': 1,\n",
       "     'part_of_speech': 'noun_pl',\n",
       "     'definition': None},\n",
       "    {'lemma': 'dezaktywizacja',\n",
       "     'domain_id': 2,\n",
       "     'id': 'a3eed3b4-5d15-11e9-9c5c-d3a59861a165',\n",
       "     'sense_index': 1,\n",
       "     'part_of_speech': 'noun_pl',\n",
       "     'definition': None},\n",
       "    {'lemma': 'uszczerbek na zdrowiu',\n",
       "     'domain_id': 8,\n",
       "     'id': 'b0e1bb54-5d15-11e9-94e6-fb13db61188d',\n",
       "     'sense_index': 1,\n",
       "     'part_of_speech': 'noun_pl',\n",
       "     'definition': None},\n",
       "    {'lemma': 'frycowe',\n",
       "     'domain_id': 8,\n",
       "     'id': 'ecd1fbce-5d15-11e9-aa37-b737ce35d598',\n",
       "     'sense_index': 1,\n",
       "     'part_of_speech': 'noun_pl',\n",
       "     'definition': None},\n",
       "    {'lemma': 'przegrana',\n",
       "     'domain_id': 20,\n",
       "     'id': 'ecd334bc-5d15-11e9-aa3f-4ffb3175f451',\n",
       "     'sense_index': 2,\n",
       "     'part_of_speech': 'noun_pl',\n",
       "     'definition': 'kwota, którą się przegrało'},\n",
       "    {'lemma': 'depersonalizacja',\n",
       "     'domain_id': 23,\n",
       "     'id': 'ef7cc200-5d15-11e9-b8b0-97b960880a25',\n",
       "     'sense_index': 1,\n",
       "     'part_of_speech': 'noun_pl',\n",
       "     'definition': None},\n",
       "    {'lemma': 'zgar',\n",
       "     'domain_id': 16,\n",
       "     'id': '9dfc8112-5d16-11e9-85e5-738f4a5226f1',\n",
       "     'sense_index': 1,\n",
       "     'part_of_speech': 'noun_pl',\n",
       "     'definition': None},\n",
       "    {'lemma': 'dekulturacja',\n",
       "     'domain_id': 19,\n",
       "     'id': 'a66cb128-5d16-11e9-b4a1-67eaf78033c3',\n",
       "     'sense_index': 1,\n",
       "     'part_of_speech': 'noun_pl',\n",
       "     'definition': None},\n",
       "    {'lemma': 'straty moralne',\n",
       "     'domain_id': 18,\n",
       "     'id': 'ab7a6d90-5d16-11e9-97a7-97264b87c31f',\n",
       "     'sense_index': 1,\n",
       "     'part_of_speech': 'noun_pl',\n",
       "     'definition': 'szkoda, która nie dotyczy bezpośrednio właności pkorzywdzonego, lecz jego komfortu psychicznego i fizycznego, samopoczucia bądź opinii'},\n",
       "    {'lemma': 'trójkąt Harbergera',\n",
       "     'domain_id': 26,\n",
       "     'id': 'b125459e-5d16-11e9-b6a6-3f8984386d29',\n",
       "     'sense_index': 1,\n",
       "     'part_of_speech': 'noun_pl',\n",
       "     'definition': 'nieodwracalna strata społeczna spowodowana wprowadzeniem podatku'},\n",
       "    {'lemma': 'szkoda majątkowa',\n",
       "     'domain_id': 18,\n",
       "     'id': 'd8faa65e-5d16-11e9-af9d-e3d238b28480',\n",
       "     'sense_index': 1,\n",
       "     'part_of_speech': 'noun_pl',\n",
       "     'definition': 'nieprawidłowość, na której ucierpiał majątek poszkodowanego'}]},\n",
       "  {'relation_id': 169,\n",
       "   'language': 'pl_PL',\n",
       "   'target_type': 'synset',\n",
       "   'senses': [{'lemma': 'szkodowy',\n",
       "     'domain_id': 43,\n",
       "     'id': 'bc9b835c-5d16-11e9-a268-078836ba2922',\n",
       "     'sense_index': 1,\n",
       "     'part_of_speech': 'adjective_pl',\n",
       "     'definition': 'związany ze szkodą'}]},\n",
       "  {'relation_id': 3447,\n",
       "   'language': 'pl_PL',\n",
       "   'target_type': 'synset',\n",
       "   'senses': [{'lemma': 'rozliczenie',\n",
       "     'domain_id': 18,\n",
       "     'id': '9df68880-5d15-11e9-afd2-d3ca6bff35b2',\n",
       "     'sense_index': 3,\n",
       "     'part_of_speech': 'noun_pl',\n",
       "     'definition': None}]},\n",
       "  {'relation_id': 80,\n",
       "   'language': 'pl_PL',\n",
       "   'target_type': 'synset',\n",
       "   'senses': [{'lemma': 'zniszczyć',\n",
       "     'domain_id': 28,\n",
       "     'id': '84586826-5d15-11e9-ba48-ef9ad0dae433',\n",
       "     'sense_index': 1,\n",
       "     'part_of_speech': 'verb_pl',\n",
       "     'definition': 'spowodować, że coś nie nadaje się do użytku albo straciło jakieś swoje funkcje'}]},\n",
       "  {'relation_id': 59,\n",
       "   'language': 'pl_PL',\n",
       "   'target_type': 'synset',\n",
       "   'senses': [{'lemma': 'szkodnik',\n",
       "     'domain_id': 15,\n",
       "     'id': 'c7b6db52-5d15-11e9-ba27-b7853ff4f09d',\n",
       "     'sense_index': 1,\n",
       "     'part_of_speech': 'noun_pl',\n",
       "     'definition': 'osoba, która szkodzi jakiejś sprawie, której działalność jest szkodliwa'},\n",
       "    {'lemma': 'szkodnik',\n",
       "     'domain_id': 15,\n",
       "     'id': 'c7b6fb5a-5d15-11e9-ba28-e3c8a0bb789f',\n",
       "     'sense_index': 3,\n",
       "     'part_of_speech': 'noun_pl',\n",
       "     'definition': None},\n",
       "    {'lemma': 'szkodnik',\n",
       "     'domain_id': 21,\n",
       "     'id': 'c7b71b6c-5d15-11e9-ba29-d7975a82fd6f',\n",
       "     'sense_index': 4,\n",
       "     'part_of_speech': 'noun_pl',\n",
       "     'definition': 'żartobliwe, pieszczotliwe określenie zwierzęcia domowego, którego hodowla bywa słodkim ciężarem z powodu szkód, jakie potrafi wyrządzić'},\n",
       "    {'lemma': 'bezszkodowy',\n",
       "     'domain_id': 42,\n",
       "     'id': 'b6c9568e-5d16-11e9-bd32-7f19582281e1',\n",
       "     'sense_index': 1,\n",
       "     'part_of_speech': 'adjective_pl',\n",
       "     'definition': 'taki, który przebiega bez szkód, bez wypadków, bez zdarzeń skutkujących zniszczeniami, uszkodzeniami, stratą (zwykle w kontekście ubezpieczenia)'},\n",
       "    {'lemma': 'szkodowy',\n",
       "     'domain_id': 42,\n",
       "     'id': 'bc9be022-5d16-11e9-a26a-33ec7e5b768e',\n",
       "     'sense_index': 2,\n",
       "     'part_of_speech': 'adjective_pl',\n",
       "     'definition': 'taki, który ma predyspozycje do powodowania szkód lub ulegania szkodom, powodujący szkody'}]},\n",
       "  {'relation_id': 3475,\n",
       "   'language': 'pl_PL',\n",
       "   'target_type': 'synset',\n",
       "   'senses': [{'lemma': 'dodać',\n",
       "     'domain_id': 29,\n",
       "     'id': '79d6881a-5d15-11e9-ab2a-c310dceb8119',\n",
       "     'sense_index': 1,\n",
       "     'part_of_speech': 'verb_pl',\n",
       "     'definition': None},\n",
       "    {'lemma': 'dodawać',\n",
       "     'domain_id': 29,\n",
       "     'id': '79d7e318-5d15-11e9-ab32-871bd3b9e302',\n",
       "     'sense_index': 2,\n",
       "     'part_of_speech': 'verb_pl',\n",
       "     'definition': None},\n",
       "    {'lemma': 'oszacować',\n",
       "     'domain_id': 29,\n",
       "     'id': '7cf1b51a-5d15-11e9-b7d9-77495cd316f9',\n",
       "     'sense_index': 1,\n",
       "     'part_of_speech': 'verb_pl',\n",
       "     'definition': None},\n",
       "    {'lemma': 'oszacować',\n",
       "     'domain_id': 29,\n",
       "     'id': 'f5a3b0e4-5d15-11e9-bf35-4366fabbc762',\n",
       "     'sense_index': 2,\n",
       "     'part_of_speech': 'verb_pl',\n",
       "     'definition': None}]},\n",
       "  {'relation_id': 108,\n",
       "   'language': 'pl_PL',\n",
       "   'target_type': 'synset',\n",
       "   'senses': [{'lemma': 'zniszczenie',\n",
       "     'domain_id': 8,\n",
       "     'id': 'd6d8bfce-5d15-11e9-bea7-1bf6e7ca71f9',\n",
       "     'sense_index': 2,\n",
       "     'part_of_speech': 'noun_pl',\n",
       "     'definition': None}]},\n",
       "  {'relation_id': 46,\n",
       "   'language': 'pl_PL',\n",
       "   'target_type': 'synset',\n",
       "   'senses': [{'lemma': 'szkodzić',\n",
       "     'domain_id': 28,\n",
       "     'id': 'b37e48aa-5d15-11e9-a391-8b74c9b8f866',\n",
       "     'sense_index': 2,\n",
       "     'part_of_speech': 'verb_pl',\n",
       "     'definition': 'powodować negatywne skutki, prowadzić do powstania szkód'}]},\n",
       "  {'relation_id': 60,\n",
       "   'language': 'pl_PL',\n",
       "   'target_type': 'synset',\n",
       "   'senses': [{'lemma': 'szwank',\n",
       "     'domain_id': 8,\n",
       "     'id': 'ca422d18-5d15-11e9-9984-afe96522cc4d',\n",
       "     'sense_index': 1,\n",
       "     'part_of_speech': 'noun_pl',\n",
       "     'definition': None}]}],\n",
       " 'incoming': [{'relation_id': 10,\n",
       "   'language': 'pl_PL',\n",
       "   'target_type': 'synset',\n",
       "   'senses': [{'lemma': 'niepowodzenie',\n",
       "     'domain_id': 8,\n",
       "     'id': '7c24c08c-5d15-11e9-b4ec-0360b7b922cf',\n",
       "     'sense_index': 1,\n",
       "     'part_of_speech': 'noun_pl',\n",
       "     'definition': None},\n",
       "    {'lemma': 'ubytek',\n",
       "     'domain_id': 20,\n",
       "     'id': 'ecd1bd94-5d15-11e9-aa35-eff888830069',\n",
       "     'sense_index': 4,\n",
       "     'part_of_speech': 'noun_pl',\n",
       "     'definition': 'coś, co ubyło, czego jest mniej; różnica między tym, co było wcześniej i tym co jest teraz'}]},\n",
       "  {'relation_id': 212,\n",
       "   'language': 'en_GB',\n",
       "   'target_type': 'synset',\n",
       "   'senses': [{'lemma': 'poliosis',\n",
       "     'domain_id': 4,\n",
       "     'id': '3ae19fd6-5d16-11e9-bca9-dff553df64c9',\n",
       "     'sense_index': 1,\n",
       "     'part_of_speech': 'noun_pwn',\n",
       "     'definition': 'loss of color from the hair'},\n",
       "    {'lemma': 'damage',\n",
       "     'domain_id': 8,\n",
       "     'id': '4bc5a914-5d16-11e9-9ab4-e72bf9e6dff4',\n",
       "     'sense_index': 2,\n",
       "     'part_of_speech': 'noun_pwn',\n",
       "     'definition': 'loss of military equipment'},\n",
       "    {'lemma': 'battle damage',\n",
       "     'domain_id': 8,\n",
       "     'id': '4bc5e956-5d16-11e9-9ab6-d3285003a387',\n",
       "     'sense_index': 1,\n",
       "     'part_of_speech': 'noun_pwn',\n",
       "     'definition': 'loss of military equipment in battle'},\n",
       "    {'lemma': 'operational damage',\n",
       "     'domain_id': 8,\n",
       "     'id': '4bc6468a-5d16-11e9-9ab8-7bdde8857ec1',\n",
       "     'sense_index': 1,\n",
       "     'part_of_speech': 'noun_pwn',\n",
       "     'definition': 'loss of military equipment in field operations'},\n",
       "    {'lemma': 'casualty',\n",
       "     'domain_id': 8,\n",
       "     'id': '4bc68bd6-5d16-11e9-9aba-3bcd00869b9d',\n",
       "     'sense_index': 4,\n",
       "     'part_of_speech': 'noun_pwn',\n",
       "     'definition': 'a decrease of military personnel or equipment'},\n",
       "    {'lemma': 'personnel casualty',\n",
       "     'domain_id': 8,\n",
       "     'id': '4bc788b0-5d16-11e9-9ac0-87f3805a9931',\n",
       "     'sense_index': 1,\n",
       "     'part_of_speech': 'noun_pwn',\n",
       "     'definition': 'military personnel lost by death or capture'},\n",
       "    {'lemma': 'collateral damage',\n",
       "     'domain_id': 8,\n",
       "     'id': '4bec65a4-5d16-11e9-9b78-e730c51fc43d',\n",
       "     'sense_index': 1,\n",
       "     'part_of_speech': 'noun_pwn',\n",
       "     'definition': '(euphemism) inadvertent casualties and destruction inflicted on civilians in the course of military operations'},\n",
       "    {'lemma': 'detriment',\n",
       "     'domain_id': 8,\n",
       "     'id': '4c512fe8-5d16-11e9-9dce-c70bbde0a5fd',\n",
       "     'sense_index': 1,\n",
       "     'part_of_speech': 'noun_pwn',\n",
       "     'definition': 'a damage or loss'},\n",
       "    {'lemma': 'nonpayment',\n",
       "     'domain_id': 18,\n",
       "     'id': '747a3816-5d16-11e9-ada3-c734e74c4e47',\n",
       "     'sense_index': 2,\n",
       "     'part_of_speech': 'noun_pwn',\n",
       "     'definition': 'loss resulting from failure of a debt to be paid'},\n",
       "    {'lemma': 'capital loss',\n",
       "     'domain_id': 18,\n",
       "     'id': '74899f7c-5d16-11e9-ae06-f39416471f26',\n",
       "     'sense_index': 1,\n",
       "     'part_of_speech': 'noun_pwn',\n",
       "     'definition': 'the amount by which the purchase price of an asset exceeds the selling price'},\n",
       "    {'lemma': 'financial loss',\n",
       "     'domain_id': 18,\n",
       "     'id': '74a2a5da-5d16-11e9-ae9f-e3055d053773',\n",
       "     'sense_index': 1,\n",
       "     'part_of_speech': 'noun_pwn',\n",
       "     'definition': 'loss of money or decrease in financial value'},\n",
       "    {'lemma': 'sacrifice',\n",
       "     'domain_id': 18,\n",
       "     'id': '74a2c632-5d16-11e9-aea0-9f2dda5bc1ce',\n",
       "     'sense_index': 3,\n",
       "     'part_of_speech': 'noun_pwn',\n",
       "     'definition': 'a loss entailed by giving up or selling something at less than its value'},\n",
       "    {'lemma': 'epilation',\n",
       "     'domain_id': 19,\n",
       "     'id': '75821a6c-5d16-11e9-b396-33673b76eee4',\n",
       "     'sense_index': 1,\n",
       "     'part_of_speech': 'noun_pwn',\n",
       "     'definition': 'loss of hair'},\n",
       "    {'lemma': 'loss',\n",
       "     'domain_id': 19,\n",
       "     'id': '75acb90c-5d16-11e9-b4a9-c7e886c653e3',\n",
       "     'sense_index': 2,\n",
       "     'part_of_speech': 'noun_pwn',\n",
       "     'definition': 'gradual decline in amount or activity'},\n",
       "    {'lemma': 'psilosis',\n",
       "     'domain_id': 19,\n",
       "     'id': '75da7658-5d16-11e9-b5a4-97c9a495c747',\n",
       "     'sense_index': 2,\n",
       "     'part_of_speech': 'noun_pwn',\n",
       "     'definition': 'falling out of hair'},\n",
       "    {'lemma': 'slippage',\n",
       "     'domain_id': 19,\n",
       "     'id': '75eb0b9e-5d16-11e9-b60b-97d2a8e44d15',\n",
       "     'sense_index': 1,\n",
       "     'part_of_speech': 'noun_pwn',\n",
       "     'definition': 'a decrease of transmitted power in a mechanical system caused by slipping'},\n",
       "    {'lemma': 'outage',\n",
       "     'domain_id': 20,\n",
       "     'id': '774ebe90-5d16-11e9-be33-af63bb1ee55e',\n",
       "     'sense_index': 1,\n",
       "     'part_of_speech': 'noun_pwn',\n",
       "     'definition': 'the amount of something (as whiskey or oil) lost in storage or transportation'}]},\n",
       "  {'relation_id': 108,\n",
       "   'language': 'pl_PL',\n",
       "   'target_type': 'synset',\n",
       "   'senses': [{'lemma': 'zniszczenie',\n",
       "     'domain_id': 8,\n",
       "     'id': 'd6d8bfce-5d15-11e9-bea7-1bf6e7ca71f9',\n",
       "     'sense_index': 2,\n",
       "     'part_of_speech': 'noun_pl',\n",
       "     'definition': None}]},\n",
       "  {'relation_id': 3005,\n",
       "   'language': 'en_GB',\n",
       "   'target_type': 'synset',\n",
       "   'senses': [{'lemma': 'loss',\n",
       "     'domain_id': 4,\n",
       "     'id': '3c521a4e-5d16-11e9-9853-573b4af61ad4',\n",
       "     'sense_index': 4,\n",
       "     'part_of_speech': 'noun_pwn',\n",
       "     'definition': 'the disadvantage that results from losing something'},\n",
       "    {'lemma': 'loss',\n",
       "     'domain_id': 18,\n",
       "     'id': '74a28582-5d16-11e9-ae9e-cf9d6001bf0f',\n",
       "     'sense_index': 1,\n",
       "     'part_of_speech': 'noun_pwn',\n",
       "     'definition': 'something that is lost'}]},\n",
       "  {'relation_id': 60,\n",
       "   'language': 'pl_PL',\n",
       "   'target_type': 'synset',\n",
       "   'senses': [{'lemma': 'szwank',\n",
       "     'domain_id': 8,\n",
       "     'id': 'ca422d18-5d15-11e9-9984-afe96522cc4d',\n",
       "     'sense_index': 1,\n",
       "     'part_of_speech': 'noun_pl',\n",
       "     'definition': None}]}]}"
      ]
     },
     "execution_count": 24,
     "metadata": {},
     "output_type": "execute_result"
    }
   ],
   "source": [
    "res = requests.get('http://plwordnet.pwr.wroc.pl/wordnet/api/lexemes/{}'.format(word))\n",
    "senses_id = []\n",
    "for sense in res.json():\n",
    "    if sense['part_of_speech'] == 'noun_pl':\n",
    "        senses_id.append(sense['sense_id'])\n",
    "        res = requests.get('http://plwordnet.pwr.wroc.pl/wordnet/api/senses/{}'.format(senses_id[0]))\n",
    "        for homograph in res.json()['homographs']:\n",
    "            if homograph['id'] != senses_id[0]:\n",
    "                senses_id.append(homograph['id'])\n",
    "                break\n",
    "        break\n",
    "        \n",
    "for sense_id in senses_id:\n",
    "    res = requests.get('http://plwordnet.pwr.wroc.pl/wordnet/api/senses/{}'.format(sense_id))"
   ]
  },
  {
   "cell_type": "markdown",
   "metadata": {},
   "source": [
    "Znaczenia szkoda:\n",
    "    1. szkoda 1 - miejsce w polu lub ogrodzie, gdzie zwierzęta (np. drób, bydło) zniszczyły plony\n",
    "    2. szkoda 2\n",
    "        * strata 1\n",
    "        * utrata 1\n",
    "        * uszczerbek 1"
   ]
  },
  {
   "cell_type": "markdown",
   "metadata": {},
   "source": [
    "# Zadanie 4"
   ]
  },
  {
   "cell_type": "markdown",
   "metadata": {},
   "source": [
    "Find closure of hypernymy relation for the first meaning of the wypadek drogowy expression. Create diagram of the relations as a directed graph."
   ]
  },
  {
   "cell_type": "code",
   "execution_count": 36,
   "metadata": {},
   "outputs": [
    {
     "data": {
      "text/plain": [
       "'wydarzenie -> zdarzenie oceniane negatywnie -> wypadek -> wypadek komunikacyjny -> wypadek drogowy'"
      ]
     },
     "execution_count": 36,
     "metadata": {},
     "output_type": "execute_result"
    }
   ],
   "source": [
    "word = 'wypadek drogowy'\n",
    "res = requests.get('http://plwordnet.pwr.wroc.pl/wordnet/api/lexemes/{}'.format(word))\n",
    "sense_id = res.json()[0]['sense_id']\n",
    "\n",
    "res = requests.get('http://plwordnet.pwr.wroc.pl/wordnet/api/hyponyms/{}'.format(sense_id))\n",
    "result = ''\n",
    "for lemma in res.json()[0]:\n",
    "    if result != '':\n",
    "        result += ' -> '\n",
    "    result += lemma['lemma']\n",
    "result\n",
    "        "
   ]
  },
  {
   "cell_type": "markdown",
   "metadata": {},
   "source": [
    "# Zadanie 5"
   ]
  },
  {
   "cell_type": "markdown",
   "metadata": {},
   "source": [
    "Find direct hyponyms of wypadek 1 noun."
   ]
  },
  {
   "cell_type": "code",
   "execution_count": 45,
   "metadata": {},
   "outputs": [
    {
     "data": {
      "text/plain": [
       "['zderzenie',\n",
       " 'kolizja',\n",
       " 'karambol',\n",
       " 'zawał',\n",
       " 'tąpnięcie',\n",
       " 'kapotaż',\n",
       " 'wykolejenie',\n",
       " 'zakrztuszenie',\n",
       " 'wypadek komunikacyjny',\n",
       " 'katastrofa budowlana',\n",
       " 'wypadek jądrowy']"
      ]
     },
     "execution_count": 45,
     "metadata": {},
     "output_type": "execute_result"
    }
   ],
   "source": [
    "word = 'wypadek'\n",
    "res = requests.get('http://plwordnet.pwr.wroc.pl/wordnet/api/lexemes/{}'.format(word))\n",
    "sense_id = res.json()[0]['sense_id']\n",
    "res = requests.get('http://plwordnet.pwr.wroc.pl/wordnet/api/senses/{}'.format(sense_id))\n",
    "res.json()\n",
    "result = []\n",
    "ids = []\n",
    "for relation in res.json()['outgoing']:\n",
    "    if relation['relation_id'] == 10:\n",
    "        for lemma in relation['senses']:\n",
    "            result.append(lemma['lemma'])\n",
    "            ids.append(lemma['id'])\n",
    "        break\n",
    "result"
   ]
  },
  {
   "cell_type": "markdown",
   "metadata": {},
   "source": [
    "# Zadanie 6"
   ]
  },
  {
   "cell_type": "markdown",
   "metadata": {},
   "source": [
    "Find second-order hyponyms of the same noun."
   ]
  },
  {
   "cell_type": "code",
   "execution_count": 50,
   "metadata": {},
   "outputs": [
    {
     "name": "stdout",
     "output_type": "stream",
     "text": [
      "zderzenie: \n",
      "['czołówka', 'stłuczka', 'dzwon']\n",
      "kolizja: \n",
      "['kolizja drogowa']\n",
      "zawał: \n",
      "['obwał']\n",
      "wypadek komunikacyjny: \n",
      "['wypadek drogowy']\n"
     ]
    }
   ],
   "source": [
    "second_order = []\n",
    "first_order = []\n",
    "for sense, name in zip(ids, result):\n",
    "    res = requests.get('http://plwordnet.pwr.wroc.pl/wordnet/api/senses/{}'.format(sense))\n",
    "    for relation in res.json()['outgoing']:\n",
    "        if relation['relation_id'] == 10:\n",
    "            first_order.append(name)\n",
    "            tmp = []\n",
    "            for lemma in relation['senses']:\n",
    "                tmp.append(lemma['lemma'])\n",
    "            second_order.append(tmp)\n",
    "            break\n",
    "for name, name_list in zip(first_order, second_order):\n",
    "    print(name + ': ')\n",
    "    print(name_list)\n"
   ]
  },
  {
   "cell_type": "markdown",
   "metadata": {},
   "source": [
    "# Zadanie 7"
   ]
  },
  {
   "cell_type": "markdown",
   "metadata": {},
   "source": [
    "Display as a directed graph (with labels for the edges) semantic relations between the following groups of lexemes: \n",
    "\n",
    "szkoda2, strata1, uszczerbek1, szkoda majątkowa1, uszczerbek na zdrowiu1, krzywda1, niesprawiedliwość1, nieszczęście2.\n",
    "\n",
    "wypadek1, wypadek komunikacyjny1, kolizja2, zderzenie2, kolizja drogowa1, bezkolizyjny2, katastrofa budowlana1, wypadek drogowy1."
   ]
  },
  {
   "cell_type": "code",
   "execution_count": 85,
   "metadata": {},
   "outputs": [],
   "source": [
    "words = [('szkoda', 2), ('strata', 1), ('uszczerbek', 1), ('szkoda majątkowa', 1), ('uszczerbek na zdrowiu', 1), \n",
    "        ('krzywda', 1), ('niesprawiedliwość', 1), ('nieszczęście', 2)]"
   ]
  },
  {
   "cell_type": "code",
   "execution_count": 94,
   "metadata": {},
   "outputs": [],
   "source": [
    "def search_for_relation(word1, sense1, word2, sense2):\n",
    "    res = requests.get('http://plwordnet.pwr.wroc.pl/wordnet/api/lexemes/{}'.format(word1))\n",
    "    sense_id = -1\n",
    "    for sense in res.json():\n",
    "        if (sense['part_of_speech'] == 'noun_pl' or sense['part_of_speech'] == 'adjective_pl') and sense['lemma'] == word1:\n",
    "            sense_id = sense['sense_id']\n",
    "    res = requests.get('http://plwordnet.pwr.wroc.pl/wordnet/api/senses/{}'.format(sense_id))\n",
    "    for homograph in res.json()['homographs']:\n",
    "        if homograph['sense_index'] == sense1:\n",
    "            sense_id = homograph['id']\n",
    "            break\n",
    "\n",
    "    res = requests.get('http://plwordnet.pwr.wroc.pl/wordnet/api/senses/{}'.format(sense_id))\n",
    "    for relation in res.json()['outgoing']:\n",
    "        relation_id = relation['relation_id']\n",
    "        for lemma in relation['senses']:\n",
    "            if lemma['lemma'] == word2 and lemma['sense_index'] == sense2:\n",
    "                return relation_id\n",
    "    for sense in res.json()['synset']['senses']:\n",
    "        if sense['lemma'] == word2 and lemma['sense_index'] == sense2:\n",
    "            return 'synonim'\n",
    "    return ''"
   ]
  },
  {
   "cell_type": "code",
   "execution_count": 86,
   "metadata": {},
   "outputs": [
    {
     "name": "stdout",
     "output_type": "stream",
     "text": [
      "('szkoda', 2) ('strata', 1) synonim\n",
      "('szkoda', 2) ('uszczerbek', 1) synonim\n",
      "('szkoda', 2) ('szkoda majątkowa', 1) hyponym\n",
      "('szkoda', 2) ('uszczerbek na zdrowiu', 1) hyponym\n",
      "('szkoda', 2) ('krzywda', 1) hyponym\n",
      "('strata', 1) ('uszczerbek', 1) synonim\n",
      "('strata', 1) ('szkoda majątkowa', 1) hyponym\n",
      "('strata', 1) ('uszczerbek na zdrowiu', 1) hyponym\n",
      "('strata', 1) ('krzywda', 1) hyponym\n",
      "('uszczerbek', 1) ('strata', 1) synonim\n",
      "('uszczerbek', 1) ('szkoda majątkowa', 1) hyponym\n",
      "('uszczerbek', 1) ('uszczerbek na zdrowiu', 1) hyponym\n",
      "('uszczerbek', 1) ('krzywda', 1) hyponym\n",
      "('krzywda', 1) ('niesprawiedliwość', 1) synonim\n",
      "('niesprawiedliwość', 1) ('krzywda', 1) synonim\n",
      "('nieszczęście', 2) ('krzywda', 1) hyponym\n"
     ]
    }
   ],
   "source": [
    "import itertools\n",
    "for word1, word2 in itertools.product(words, repeat=2):\n",
    "    if word1 != word2:\n",
    "        relation = search_for_relation(word1[0], word1[1], word2[0], word2[1])\n",
    "        if relation == 10:\n",
    "            relation = 'hiponim'\n",
    "        if relation == 59:\n",
    "            relation = 'derywacyjność'\n",
    "        if relation != '':\n",
    "            print(word1, word2, relation)\n"
   ]
  },
  {
   "attachments": {
    "Untitled%20Diagram-Page-2.jpg": {
     "image/jpeg": "[encoded data removed]"
    }
   },
   "cell_type": "markdown",
   "metadata": {},
   "source": [
    "![Untitled%20Diagram-Page-2.jpg](attachment:Untitled%20Diagram-Page-2.jpg)"
   ]
  },
  {
   "cell_type": "code",
   "execution_count": 87,
   "metadata": {},
   "outputs": [],
   "source": [
    "words2 = [('wypadek', 1), ('wypadek komunikacyjny', 1), ('kolizja', 2), ('zderzenie', 2), ('kolizja drogowa', 1),\n",
    "        ('bezkolizyjny', 2), ('katastrofa budowlana', 1), ('wypadek drogowy', 1)]"
   ]
  },
  {
   "cell_type": "code",
   "execution_count": 96,
   "metadata": {},
   "outputs": [
    {
     "name": "stdout",
     "output_type": "stream",
     "text": [
      "('wypadek', 1) ('wypadek komunikacyjny', 1) hyponym\n",
      "('wypadek', 1) ('kolizja', 2) hyponym\n",
      "('wypadek', 1) ('zderzenie', 2) hyponym\n",
      "('wypadek', 1) ('katastrofa budowlana', 1) hyponym\n",
      "('wypadek komunikacyjny', 1) ('wypadek drogowy', 1) hyponym\n",
      "('kolizja', 2) ('kolizja drogowa', 1) hyponym\n",
      "('kolizja', 2) ('bezkolizyjny', 2) 59\n"
     ]
    }
   ],
   "source": [
    "import itertools\n",
    "for word1, word2 in itertools.product(words2, repeat=2):\n",
    "    if word1 != word2:\n",
    "        relation = search_for_relation(word1[0], word1[1], word2[0], word2[1])\n",
    "        if relation == 10:\n",
    "            relation = 'hyponym'\n",
    "        if relation != '':\n",
    "            print(word1, word2, relation)"
   ]
  },
  {
   "attachments": {
    "Untitled%20Diagram.jpg": {
     "image/jpeg": "[encoded data removed]"
    }
   },
   "cell_type": "markdown",
   "metadata": {},
   "source": [
    "![Untitled%20Diagram.jpg](attachment:Untitled%20Diagram.jpg)"
   ]
  },
  {
   "cell_type": "markdown",
   "metadata": {},
   "source": [
    "# Zadanie 8"
   ]
  },
  {
   "cell_type": "markdown",
   "metadata": {},
   "source": [
    "Find the value of Leacock-Chodorow semantic similarity measure between following pairs of lexemes:\n",
    "\n",
    "szkoda2 - wypadek1,\n",
    "\n",
    "kolizja2 - szkoda majątkowa1,\n",
    "\n",
    "nieszczęście2 - katastrofa budowlana1"
   ]
  },
  {
   "cell_type": "code",
   "execution_count": 4,
   "metadata": {},
   "outputs": [],
   "source": [
    "words1 = [('szkoda', 2), ('wypadek', 1)]\n",
    "words2 = [('kolizja', 2), ('szkoda majątkowa', 1)]\n",
    "words3 = [('nieszczęście', 2), ('katastrofa budowlana', 1)]"
   ]
  },
  {
   "cell_type": "code",
   "execution_count": 3,
   "metadata": {},
   "outputs": [],
   "source": [
    "def find_path(word1, sense1):\n",
    "    res = requests.get('http://plwordnet.pwr.wroc.pl/wordnet/api/lexemes/{}'.format(word1))\n",
    "    sense_id = -1\n",
    "    for sense in res.json():\n",
    "        if sense['part_of_speech'] == 'noun_pl' and sense['lemma'] == word1:\n",
    "            sense_id = sense['sense_id']\n",
    "    res = requests.get('http://plwordnet.pwr.wroc.pl/wordnet/api/senses/{}'.format(sense_id))\n",
    "    for homograph in res.json()['homographs']:\n",
    "        if homograph['sense_index'] == sense1:\n",
    "            sense_id = homograph['id']\n",
    "\n",
    "    res = requests.get('http://plwordnet.pwr.wroc.pl/wordnet/api/hyponyms/{}'.format(sense_id))\n",
    "    result = ''\n",
    "    for lemmas in res.json():\n",
    "        for lemma in lemmas:\n",
    "            if result != '':\n",
    "                result += ' -> '\n",
    "            result += lemma['lemma'] + ' ' + str(lemma['sense_index'])\n",
    "        print(result)\n",
    "        result = ''"
   ]
  },
  {
   "cell_type": "code",
   "execution_count": 1,
   "metadata": {},
   "outputs": [],
   "source": [
    "import math\n",
    "def measure(value):\n",
    "    depth = 35\n",
    "    result = - math.log((value) / (2.0 * depth))\n",
    "    return result"
   ]
  },
  {
   "cell_type": "code",
   "execution_count": 7,
   "metadata": {},
   "outputs": [
    {
     "name": "stdout",
     "output_type": "stream",
     "text": [
      "wydarzenie 1 -> zdarzenie oceniane negatywnie 1 -> niepowodzenie 1 -> strata 1\n",
      "właściwość 1 -> cecha zbioru 1 -> cecha jednostek w zbiorze 1 -> różnica 1 -> ubytek 4 -> strata 1\n",
      " \n",
      "wydarzenie 1 -> zdarzenie oceniane negatywnie 1 -> wypadek 1\n"
     ]
    },
    {
     "data": {
      "text/plain": [
       "3.1498829533812494"
      ]
     },
     "execution_count": 7,
     "metadata": {},
     "output_type": "execute_result"
    }
   ],
   "source": [
    "find_path(words1[0][0], words1[0][1])\n",
    "print(' ')\n",
    "find_path(words1[1][0], words1[1][1])\n",
    "value = 3\n",
    "measure(value)"
   ]
  },
  {
   "cell_type": "code",
   "execution_count": 8,
   "metadata": {},
   "outputs": [
    {
     "name": "stdout",
     "output_type": "stream",
     "text": [
      "wydarzenie 1 -> zdarzenie oceniane negatywnie 1 -> wypadek 1 -> kolizja 2\n",
      " \n",
      "wydarzenie 1 -> zdarzenie oceniane negatywnie 1 -> niepowodzenie 1 -> strata 1 -> szkoda majątkowa 1\n",
      "właściwość 1 -> cecha zbioru 1 -> cecha jednostek w zbiorze 1 -> różnica 1 -> ubytek 4 -> strata 1 -> szkoda majątkowa 1\n"
     ]
    },
    {
     "data": {
      "text/plain": [
       "2.639057329615259"
      ]
     },
     "execution_count": 8,
     "metadata": {},
     "output_type": "execute_result"
    }
   ],
   "source": [
    "find_path(words2[0][0], words2[0][1])\n",
    "print(' ')\n",
    "find_path(words2[1][0], words2[1][1])\n",
    "value = 5\n",
    "measure(value)"
   ]
  },
  {
   "cell_type": "code",
   "execution_count": 9,
   "metadata": {},
   "outputs": [
    {
     "name": "stdout",
     "output_type": "stream",
     "text": [
      "właściwość 1 -> wartość 2 -> jakość 2 -> negatywność 1 -> zło 1 -> nieszczęście 2\n",
      "rzecz 6 -> rzecz oceniana negatywnie 1 -> zło 1 -> nieszczęście 2\n",
      " \n",
      "wydarzenie 1 -> zdarzenie oceniane negatywnie 1 -> wypadek 1 -> katastrofa budowlana 1\n"
     ]
    },
    {
     "data": {
      "text/plain": [
       "2.169053700369523"
      ]
     },
     "execution_count": 9,
     "metadata": {},
     "output_type": "execute_result"
    }
   ],
   "source": [
    "find_path(words3[0][0], words3[0][1])\n",
    "print(' ')\n",
    "find_path(words3[1][0], words3[1][1])\n",
    "value = 8\n",
    "measure(value)"
   ]
  },
  {
   "cell_type": "code",
   "execution_count": null,
   "metadata": {},
   "outputs": [],
   "source": []
  },
  {
   "cell_type": "code",
   "execution_count": null,
   "metadata": {},
   "outputs": [],
   "source": []
  }
 ],
 "metadata": {
  "kernelspec": {
   "display_name": "Python 3",
   "language": "python",
   "name": "python3"
  },
  "language_info": {
   "codemirror_mode": {
    "name": "ipython",
    "version": 3
   },
   "file_extension": ".py",
   "mimetype": "text/x-python",
   "name": "python",
   "nbconvert_exporter": "python",
   "pygments_lexer": "ipython3",
   "version": "3.7.3"
  }
 },
 "nbformat": 4,
 "nbformat_minor": 2
}
