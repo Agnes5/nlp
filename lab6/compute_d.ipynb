{
 "cells": [
  {
   "cell_type": "code",
   "execution_count": 3,
   "metadata": {},
   "outputs": [],
   "source": [
    "import lxml.etree as ET\n",
    "import json\n",
    "import time\n",
    "from tqdm import *\n",
    "\n",
    "tree = ET.parse('plwordnet-4.0.xml')\n",
    "root = tree.getroot()"
   ]
  },
  {
   "cell_type": "code",
   "execution_count": 4,
   "metadata": {},
   "outputs": [
    {
     "name": "stderr",
     "output_type": "stream",
     "text": [
      "100%|██████████| 177055/177055 [00:00<00:00, 719748.18it/s]\n",
      "100%|██████████| 157845/157845 [00:00<00:00, 733431.91it/s]\n"
     ]
    }
   ],
   "source": [
    "dictionary = dict()\n",
    "    \n",
    "for word in tqdm(root.findall('lexical-unit[@pos=\"rzeczownik\"]')):\n",
    "    dictionary[word.get('id')] = word.get('id')\n",
    "\n",
    "for word in tqdm(root.findall('lexical-unit[@pos=\"rzeczownik pwn\"]')):\n",
    "    dictionary[word.get('id')] = word.get('id')"
   ]
  },
  {
   "cell_type": "code",
   "execution_count": 5,
   "metadata": {},
   "outputs": [
    {
     "name": "stderr",
     "output_type": "stream",
     "text": [
      "100%|██████████| 207156/207156 [00:00<00:00, 633005.40it/s]\n"
     ]
    }
   ],
   "source": [
    "relations = dict()\n",
    "    \n",
    "for word in tqdm(root.findall('synsetrelations[@relation=\"11\"]')):\n",
    "    parent = word.get('parent')\n",
    "    if parent in relations:\n",
    "        relations[parent].append(word.get('child'))\n",
    "    else:\n",
    "        relations[parent] = [(word.get('child'))]"
   ]
  },
  {
   "cell_type": "code",
   "execution_count": 6,
   "metadata": {},
   "outputs": [],
   "source": [
    "def depth_fun(tmp_word):\n",
    "    depth = 0\n",
    "    if tmp_word in relations:\n",
    "        depth += 1\n",
    "        tmp_depth = 0\n",
    "        for child in relations[tmp_word]:\n",
    "            tmp_tmp_depth = depth_fun(child)\n",
    "            if tmp_tmp_depth > tmp_depth:\n",
    "                tmp_depth = tmp_tmp_depth\n",
    "        depth += tmp_depth\n",
    "    return depth"
   ]
  },
  {
   "cell_type": "code",
   "execution_count": 7,
   "metadata": {},
   "outputs": [],
   "source": [
    "import sys\n",
    "sys.setrecursionlimit(10000)"
   ]
  },
  {
   "cell_type": "code",
   "execution_count": 8,
   "metadata": {},
   "outputs": [
    {
     "name": "stderr",
     "output_type": "stream",
     "text": [
      "100%|██████████| 334900/334900 [00:06<00:00, 52767.71it/s]\n"
     ]
    },
    {
     "data": {
      "text/plain": [
       "34"
      ]
     },
     "execution_count": 8,
     "metadata": {},
     "output_type": "execute_result"
    }
   ],
   "source": [
    "max_depth = 0\n",
    "for word in tqdm(dictionary):\n",
    "    try:\n",
    "        depth = depth_fun(word)\n",
    "        if depth > max_depth:\n",
    "            max_depth = depth\n",
    "    except:\n",
    "        continue\n",
    "max_depth"
   ]
  },
  {
   "cell_type": "code",
   "execution_count": 8,
   "metadata": {},
   "outputs": [
    {
     "data": {
      "text/plain": [
       "'55268'"
      ]
     },
     "execution_count": 8,
     "metadata": {},
     "output_type": "execute_result"
    }
   ],
   "source": [
    "word"
   ]
  },
  {
   "cell_type": "code",
   "execution_count": 10,
   "metadata": {},
   "outputs": [
    {
     "data": {
      "text/plain": [
       "'2367'"
      ]
     },
     "execution_count": 10,
     "metadata": {},
     "output_type": "execute_result"
    }
   ],
   "source": [
    "word"
   ]
  },
  {
   "cell_type": "code",
   "execution_count": 20,
   "metadata": {},
   "outputs": [
    {
     "data": {
      "text/plain": [
       "34"
      ]
     },
     "execution_count": 20,
     "metadata": {},
     "output_type": "execute_result"
    }
   ],
   "source": [
    "max_depth"
   ]
  },
  {
   "cell_type": "code",
   "execution_count": null,
   "metadata": {},
   "outputs": [],
   "source": []
  }
 ],
 "metadata": {
  "kernelspec": {
   "display_name": "Python 3",
   "language": "python",
   "name": "python3"
  },
  "language_info": {
   "codemirror_mode": {
    "name": "ipython",
    "version": 3
   },
   "file_extension": ".py",
   "mimetype": "text/x-python",
   "name": "python",
   "nbconvert_exporter": "python",
   "pygments_lexer": "ipython3",
   "version": "3.7.3"
  }
 },
 "nbformat": 4,
 "nbformat_minor": 2
}
